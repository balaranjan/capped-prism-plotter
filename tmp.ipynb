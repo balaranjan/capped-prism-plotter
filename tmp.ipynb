{
 "cells": [
  {
   "cell_type": "code",
   "execution_count": 3,
   "id": "5c558068",
   "metadata": {},
   "outputs": [],
   "source": [
    "import matplotlib.pyplot as plt\n",
    "import numpy as np"
   ]
  },
  {
   "cell_type": "code",
   "execution_count": 15,
   "id": "b1472cb6",
   "metadata": {},
   "outputs": [],
   "source": [
    "ps =[[-2.549, -0.0], [1.274, -2.207], [2.549, 0.0], [-1.274, 2.207], [1.274, 2.207], [2.548, -0.0]]"
   ]
  },
  {
   "cell_type": "code",
   "execution_count": 16,
   "id": "270f8430",
   "metadata": {},
   "outputs": [
    {
     "data": {
      "text/plain": [
       "array([[-2.549, -0.   ],\n",
       "       [ 1.274, -2.207],\n",
       "       [ 2.549,  0.   ],\n",
       "       [-1.274,  2.207],\n",
       "       [ 1.274,  2.207],\n",
       "       [ 2.548, -0.   ]])"
      ]
     },
     "execution_count": 16,
     "metadata": {},
     "output_type": "execute_result"
    }
   ],
   "source": [
    "ps = np.array(ps)\n",
    "# ps = ps[np.argsort(ps, -1)]\n",
    "# ps = ps[np.argsort(ps, 1)]\n",
    "ps"
   ]
  },
  {
   "cell_type": "code",
   "execution_count": 20,
   "id": "6510b5ed",
   "metadata": {},
   "outputs": [
    {
     "name": "stdout",
     "output_type": "stream",
     "text": [
      "[-2.549 -0.   ] [True, False, False, False, False, False]\n",
      "[ 1.274 -2.207] [False, True, False, False, False, False]\n",
      "[2.549 0.   ] [False, False, True, False, False, True]\n",
      "[-1.274  2.207] [False, False, False, True, False, False]\n",
      "[1.274 2.207] [False, False, False, False, True, False]\n",
      "[ 2.548 -0.   ] [False, False, True, False, False, True]\n"
     ]
    }
   ],
   "source": [
    "for neighbor in ps:\n",
    "    print(neighbor, [np.allclose(p, neighbor, atol=1e-2, rtol=1e-2) for p in ps])"
   ]
  },
  {
   "cell_type": "code",
   "execution_count": 6,
   "id": "5f962f3c",
   "metadata": {},
   "outputs": [
    {
     "data": {
      "text/plain": [
       "<matplotlib.collections.PathCollection at 0x766fd0e3f4d0>"
      ]
     },
     "execution_count": 6,
     "metadata": {},
     "output_type": "execute_result"
    },
    {
     "data": {
      "image/png": "[encoded data removed]",
      "text/plain": [
       "<Figure size 640x480 with 1 Axes>"
      ]
     },
     "metadata": {},
     "output_type": "display_data"
    }
   ],
   "source": [
    "plt.scatter(ps[:, 0], ps[:, 1])"
   ]
  },
  {
   "cell_type": "code",
   "execution_count": 1,
   "id": "c6d27ca5",
   "metadata": {},
   "outputs": [],
   "source": [
    "from functools import cmp_to_key"
   ]
  },
  {
   "cell_type": "code",
   "execution_count": 18,
   "id": "1106879c",
   "metadata": {},
   "outputs": [
    {
     "name": "stdout",
     "output_type": "stream",
     "text": [
      "PM [[4, 0.0], [5, 0.674], [3, 0.874]]\n"
     ]
    }
   ],
   "source": [
    "def custom_cmp(a, b):\n",
    "    if abs(b[1] - a[1]) <= 0.03:\n",
    "        res = -1 if (a[0] - b[0]) > 0 else 1\n",
    "    else:\n",
    "        res = a[1] - b[1]\n",
    "    return res\n",
    "\n",
    "\n",
    "site_prism_metrics = [[3, 0.874], [4, 0.0], [5, 0.674]]\n",
    "site_prism_metrics = sorted(site_prism_metrics, key=cmp_to_key(custom_cmp))\n",
    "print(\"PM\", site_prism_metrics)"
   ]
  },
  {
   "cell_type": "code",
   "execution_count": 1,
   "id": "7361d028",
   "metadata": {},
   "outputs": [],
   "source": [
    "import numpy as np"
   ]
  },
  {
   "cell_type": "code",
   "execution_count": 2,
   "id": "398d3601",
   "metadata": {},
   "outputs": [
    {
     "data": {
      "text/plain": [
       "array([1, 2, 3, 4, 5, 6, 7, 8, 9])"
      ]
     },
     "execution_count": 2,
     "metadata": {},
     "output_type": "execute_result"
    }
   ],
   "source": [
    "x = np.arange(1, 10)\n",
    "x"
   ]
  },
  {
   "cell_type": "code",
   "execution_count": 3,
   "id": "5c4a8358",
   "metadata": {},
   "outputs": [
    {
     "ename": "AttributeError",
     "evalue": "'numpy.ndarray' object has no attribute 'loc'",
     "output_type": "error",
     "traceback": [
      "\u001b[31m---------------------------------------------------------------------------\u001b[39m",
      "\u001b[31mAttributeError\u001b[39m                            Traceback (most recent call last)",
      "\u001b[36mCell\u001b[39m\u001b[36m \u001b[39m\u001b[32mIn[3]\u001b[39m\u001b[32m, line 1\u001b[39m\n\u001b[32m----> \u001b[39m\u001b[32m1\u001b[39m \u001b[43mx\u001b[49m\u001b[43m.\u001b[49m\u001b[43mloc\u001b[49m[\u001b[32m0\u001b[39m]\n",
      "\u001b[31mAttributeError\u001b[39m: 'numpy.ndarray' object has no attribute 'loc'"
     ]
    }
   ],
   "source": [
    "x.loc[0]"
   ]
  },
  {
   "cell_type": "code",
   "execution_count": null,
   "id": "30f88317",
   "metadata": {},
   "outputs": [],
   "source": []
  }
 ],
 "metadata": {
  "kernelspec": {
   "display_name": "00-utils-env",
   "language": "python",
   "name": "python3"
  },
  "language_info": {
   "codemirror_mode": {
    "name": "ipython",
    "version": 3
   },
   "file_extension": ".py",
   "mimetype": "text/x-python",
   "name": "python",
   "nbconvert_exporter": "python",
   "pygments_lexer": "ipython3",
   "version": "3.13.5"
  }
 },
 "nbformat": 4,
 "nbformat_minor": 5
}
